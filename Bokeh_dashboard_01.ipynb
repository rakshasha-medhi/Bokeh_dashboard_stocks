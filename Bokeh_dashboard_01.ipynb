{
  "nbformat": 4,
  "nbformat_minor": 0,
  "metadata": {
    "colab": {
      "provenance": [],
      "collapsed_sections": []
    },
    "kernelspec": {
      "name": "python3",
      "display_name": "Python 3"
    },
    "language_info": {
      "name": "python"
    }
  },
  "cells": [
    {
      "cell_type": "code",
      "execution_count": null,
      "metadata": {
        "id": "YBOKG4GdVrbR"
      },
      "outputs": [],
      "source": [
        "import pandas as pd\n",
        "from bokeh.io import curdoc\n",
        "from bokeh.models.widgets import AutocompleteInput\n",
        "from bokeh.models import ColumnDataSource, DataTable, TableColumn\n",
        "from bokeh.layouts import column, row\n",
        "from bokeh.plotting import figure, show"
      ]
    },
    {
      "cell_type": "code",
      "source": [
        "source_data = pd.read_csv('flatten_IHSG_unstacked_(b).csv', index_col = 'Date', parse_dates = True)\n",
        "source_data.columns = source_data.columns.str.replace('.JK', '')\n",
        "\n",
        "DEFAULT_TICKERS = list(source_data.columns)"
      ],
      "metadata": {
        "id": "8t0If0e8V4co"
      },
      "execution_count": null,
      "outputs": []
    },
    {
      "cell_type": "code",
      "source": [
        "def get_data(d, t1, t2):\n",
        "    # d = load_ticker(DEFAULT_TICKERS)\n",
        "    df = d[[t1, t2]]\n",
        "    returns = df.pct_change().add_suffix(\"_returns\")\n",
        "    df = pd.concat([df, returns], axis=1)\n",
        "    df.rename(columns={t1:\"t1\", t2:\"t2\", \n",
        "    t1+\"_returns\":\"t1_returns\", t2+\"_returns\":\"t2_returns\"}, inplace=True)\n",
        "    return df.dropna()"
      ],
      "metadata": {
        "id": "3q8TPqgZV6S0"
      },
      "execution_count": null,
      "outputs": []
    },
    {
      "cell_type": "code",
      "source": [
        "def nix(val, lst):\n",
        "    return [x for x in lst if x!= val]\n",
        "\n",
        "ticker1 = AutocompleteInput(title = \"Change Ticker Values Below:\",\n",
        "                            value = \"BBCA\", \n",
        "                            completions = nix(\"BBRI\", DEFAULT_TICKERS), \n",
        "                            case_sensitive=False)\n",
        "ticker2 = AutocompleteInput(title = \"Change Ticker Values Below:\",\n",
        "                            value=\"BBRI\", \n",
        "                            completions = nix(\"BBCA\", DEFAULT_TICKERS), \n",
        "                            case_sensitive=False)"
      ],
      "metadata": {
        "id": "2Gz5zzwYWDbn"
      },
      "execution_count": null,
      "outputs": []
    },
    {
      "cell_type": "code",
      "source": [
        "# Source Data\n",
        "data = get_data(source_data, ticker1.value, ticker2.value)\n",
        "source = ColumnDataSource(data=data)"
      ],
      "metadata": {
        "id": "rkzXWIByWFMr"
      },
      "execution_count": null,
      "outputs": []
    },
    {
      "cell_type": "code",
      "source": [
        "## Descriptive Stats\n",
        "stats = round(data.describe().reset_index(), 2)\n",
        "stats_source = ColumnDataSource(data=stats)\n",
        "stat_columns = [TableColumn(field=col, title=col) for col in stats.columns]\n",
        "data_table = DataTable(source=stats_source, \n",
        "                       columns=stat_columns, \n",
        "                       width = 350, height=350, \n",
        "                       index_position=None\n",
        "                       )"
      ],
      "metadata": {
        "id": "ZGXeStyRWVEh"
      },
      "execution_count": null,
      "outputs": []
    },
    {
      "cell_type": "code",
      "source": [
        "# Plots\n",
        "corr_tools = \"pan, wheel_zoom, box_select, reset\"\n",
        "tools = \"pan, wheel_zoom, xbox_select, reset\"\n",
        "\n",
        "corr = figure(width = 350, height = 350, tools = corr_tools)\n",
        "corr.circle(\"t1_returns\", \"t2_returns\", \n",
        "            size = 8, source = source,\n",
        "            selection_color = \"firebrick\", \n",
        "            alpha = 0.6, nonselection_alpha = 0.1, \n",
        "            selection_alpha = 0.4)"
      ],
      "metadata": {
        "id": "18OMbYLKWdQv"
      },
      "execution_count": null,
      "outputs": []
    },
    {
      "cell_type": "code",
      "source": [
        "ts1 = figure(width=700, height=250, \n",
        "            tools=tools, \n",
        "            x_axis_type=\"datetime\", \n",
        "            active_drag=\"xbox_select\"\n",
        "            )\n",
        "\n",
        "ts1.line(\"Date\", \"t1\", source=source)\n",
        "ts1.circle(\"Date\", \"t1\", size=5, source=source, \n",
        "           color=None, selection_color=\"orange\")\n",
        "\n",
        "\n",
        "ts2 = figure(width=700, height=250, \n",
        "            tools=tools, \n",
        "            x_axis_type=\"datetime\",\n",
        "            active_drag=\"xbox_select\"\n",
        "            )\n",
        "\n",
        "ts2.x_range = ts1.x_range\n",
        "ts2.line(\"Date\", \"t2\", source=source)\n",
        "ts2.circle(\"Date\", \"t2\", size=5, source=source, \n",
        "           color=None, selection_color=\"springgreen\")"
      ],
      "metadata": {
        "id": "rS4Yen6IWypd"
      },
      "execution_count": null,
      "outputs": []
    },
    {
      "cell_type": "code",
      "source": [
        "# Callbacks\n",
        "def ticker1_change(attrname, old, new):\n",
        "    ticker2.completions = nix(new, DEFAULT_TICKERS)\n",
        "    update()\n",
        "\n",
        "def ticker2_change(attrname, old, new):\n",
        "    ticker1.completions = nix(new, DEFAULT_TICKERS)\n",
        "    update()\n",
        "\n",
        "def update():\n",
        "    t1, t2 = ticker1.value, ticker2.value\n",
        "    df = get_data(source_data, t1,t2)\n",
        "    source.data = df\n",
        "    stats_source.data = round(df.describe().reset_index(), 2)\n",
        "    corr.title.text = f'{t1} returns vs {t2} returns'\n",
        "    corr.xaxis.axis_label = f'{t1}'\n",
        "    corr.yaxis.axis_label = f'{t2}'\n",
        "    # corr.title.text = \"%s returns vs. %s returns\" % (t1, t2)\n",
        "    ts1.title.text, ts2.title.text = t1, t2\n",
        "\n",
        "ticker1.on_change('value', ticker1_change)\n",
        "ticker2.on_change(\"value\", ticker2_change)"
      ],
      "metadata": {
        "id": "EPzQgnIKXJhy"
      },
      "execution_count": null,
      "outputs": []
    },
    {
      "cell_type": "code",
      "source": [
        "# Layouts\n",
        "widgets = column(ticker1, ticker2, data_table)\n",
        "main_row = row(corr, widgets)\n",
        "series = column(ts1, ts2)\n",
        "layout = column(main_row, series)"
      ],
      "metadata": {
        "id": "8AmEr6CDXP9z"
      },
      "execution_count": null,
      "outputs": []
    },
    {
      "cell_type": "code",
      "source": [
        "# Bokeh Server\n",
        "curdoc().add_root(layout)\n",
        "curdoc().title = \"Stock Dashboard\""
      ],
      "metadata": {
        "id": "aZPPXKq3XSou"
      },
      "execution_count": null,
      "outputs": []
    }
  ]
}